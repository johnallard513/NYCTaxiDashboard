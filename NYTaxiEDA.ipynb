{
  "nbformat": 4,
  "nbformat_minor": 0,
  "metadata": {
    "colab": {
      "provenance": []
    },
    "kernelspec": {
      "name": "python3",
      "display_name": "Python 3"
    },
    "language_info": {
      "name": "python"
    }
  },
  "cells": [
    {
      "cell_type": "markdown",
      "source": [
        "# NYC Taxi Records: Data Cleaning and EDA"
      ],
      "metadata": {
        "id": "ozg_W9hZ9nDy"
      }
    },
    {
      "cell_type": "markdown",
      "source": [
        "### Import and Clean the Dataframe"
      ],
      "metadata": {
        "id": "EQsPv9EHE-2A"
      }
    },
    {
      "cell_type": "code",
      "source": [
        "# Import libraries\n",
        "from google.colab import drive\n",
        "import pandas as pd\n",
        "import folium\n",
        "from IPython.display import display\n",
        "%matplotlib inline\n",
        "import matplotlib.pyplot as plt\n",
        "from matplotlib.offsetbox import OffsetImage, AnnotationBbox\n",
        "import os"
      ],
      "metadata": {
        "id": "TUQsxyJyyxRN"
      },
      "execution_count": null,
      "outputs": []
    },
    {
      "cell_type": "code",
      "execution_count": null,
      "metadata": {
        "colab": {
          "base_uri": "https://localhost:8080/"
        },
        "id": "0PUyIABIsoRf",
        "outputId": "70b3ad2d-22ea-47a5-a165-79486fa7106d"
      },
      "outputs": [
        {
          "output_type": "stream",
          "name": "stdout",
          "text": [
            "Drive already mounted at /content/drive; to attempt to forcibly remount, call drive.mount(\"/content/drive\", force_remount=True).\n"
          ]
        }
      ],
      "source": [
        "# Mount Google Drive\n",
        "drive.mount('/content/drive')"
      ]
    },
    {
      "cell_type": "code",
      "source": [
        "# Load the dataset\n",
        "\n",
        "\n",
        "\n",
        "Feb = pd.read_csv('/content/drive/MyDrive/Taxi_Feb.csv')\n",
        "\n",
        "March = pd.read_csv('/content/drive/MyDrive/Taxi_March.csv')\n"
      ],
      "metadata": {
        "id": "mcyJuZixvm6y"
      },
      "execution_count": null,
      "outputs": []
    },
    {
      "cell_type": "code",
      "source": [
        "# Concatenate the two DataFrames\n",
        "NYTaxi = pd.concat([Feb, March], ignore_index=True)\n"
      ],
      "metadata": {
        "id": "UHP4zs6MwtZz"
      },
      "execution_count": null,
      "outputs": []
    },
    {
      "cell_type": "code",
      "source": [
        "# Check the dataset\n",
        "NYTaxi.head()"
      ],
      "metadata": {
        "colab": {
          "base_uri": "https://localhost:8080/",
          "height": 226
        },
        "id": "jkzEPpGsw2s6",
        "outputId": "4480766d-48ba-4fe0-8072-a932db18e88e"
      },
      "execution_count": null,
      "outputs": [
        {
          "output_type": "execute_result",
          "data": {
            "text/plain": [
              "  vendor_name Trip_Pickup_DateTime Trip_Dropoff_DateTime  Passenger_Count  \\\n",
              "0         DDS  2009-02-03 08:25:00   2009-02-03 08:33:39                1   \n",
              "1         VTS  2009-02-28 00:26:00   2009-02-28 00:40:00                5   \n",
              "2         DDS  2009-02-22 00:39:23   2009-02-22 00:45:52                1   \n",
              "3         VTS  2009-02-28 12:47:00   2009-02-28 12:54:00                1   \n",
              "4         DDS  2009-02-05 18:34:35   2009-02-05 18:43:26                1   \n",
              "\n",
              "   Trip_Distance  Start_Lon  Start_Lat Rate_Code store_and_forward  End_Lon  \\\n",
              "0           1.60    -73.993     40.758         -                 -  -73.995   \n",
              "1           3.05      0.000      0.000         -                 -    0.000   \n",
              "2           1.50    -73.137     41.366         -                 -  -73.137   \n",
              "3           1.42    -73.980     40.748         -                 -  -73.996   \n",
              "4           1.50    -73.137     41.366         -                 -  -73.137   \n",
              "\n",
              "   End_Lat Payment_Type  Fare_Amt  surcharge mta_tax  Tip_Amt  Tolls_Amt  \\\n",
              "0   40.740         CASH       6.9        0.0       -      0.0        0.0   \n",
              "1    0.000         CASH      10.5        0.5       -      0.0        0.0   \n",
              "2   41.366         CASH       5.7        0.5       -      0.0        0.0   \n",
              "3   40.737         CASH       6.1        0.0       -      0.0        0.0   \n",
              "4   41.366         CASH       6.9        1.0       -      0.0        0.0   \n",
              "\n",
              "   Total_Amt  \n",
              "0        6.9  \n",
              "1       11.0  \n",
              "2        6.2  \n",
              "3        6.1  \n",
              "4        7.9  "
            ],
            "text/html": [
              "\n",
              "  <div id=\"df-186ec7ee-9341-4802-9f79-d214bccef234\" class=\"colab-df-container\">\n",
              "    <div>\n",
              "<style scoped>\n",
              "    .dataframe tbody tr th:only-of-type {\n",
              "        vertical-align: middle;\n",
              "    }\n",
              "\n",
              "    .dataframe tbody tr th {\n",
              "        vertical-align: top;\n",
              "    }\n",
              "\n",
              "    .dataframe thead th {\n",
              "        text-align: right;\n",
              "    }\n",
              "</style>\n",
              "<table border=\"1\" class=\"dataframe\">\n",
              "  <thead>\n",
              "    <tr style=\"text-align: right;\">\n",
              "      <th></th>\n",
              "      <th>vendor_name</th>\n",
              "      <th>Trip_Pickup_DateTime</th>\n",
              "      <th>Trip_Dropoff_DateTime</th>\n",
              "      <th>Passenger_Count</th>\n",
              "      <th>Trip_Distance</th>\n",
              "      <th>Start_Lon</th>\n",
              "      <th>Start_Lat</th>\n",
              "      <th>Rate_Code</th>\n",
              "      <th>store_and_forward</th>\n",
              "      <th>End_Lon</th>\n",
              "      <th>End_Lat</th>\n",
              "      <th>Payment_Type</th>\n",
              "      <th>Fare_Amt</th>\n",
              "      <th>surcharge</th>\n",
              "      <th>mta_tax</th>\n",
              "      <th>Tip_Amt</th>\n",
              "      <th>Tolls_Amt</th>\n",
              "      <th>Total_Amt</th>\n",
              "    </tr>\n",
              "  </thead>\n",
              "  <tbody>\n",
              "    <tr>\n",
              "      <th>0</th>\n",
              "      <td>DDS</td>\n",
              "      <td>2009-02-03 08:25:00</td>\n",
              "      <td>2009-02-03 08:33:39</td>\n",
              "      <td>1</td>\n",
              "      <td>1.60</td>\n",
              "      <td>-73.993</td>\n",
              "      <td>40.758</td>\n",
              "      <td>-</td>\n",
              "      <td>-</td>\n",
              "      <td>-73.995</td>\n",
              "      <td>40.740</td>\n",
              "      <td>CASH</td>\n",
              "      <td>6.9</td>\n",
              "      <td>0.0</td>\n",
              "      <td>-</td>\n",
              "      <td>0.0</td>\n",
              "      <td>0.0</td>\n",
              "      <td>6.9</td>\n",
              "    </tr>\n",
              "    <tr>\n",
              "      <th>1</th>\n",
              "      <td>VTS</td>\n",
              "      <td>2009-02-28 00:26:00</td>\n",
              "      <td>2009-02-28 00:40:00</td>\n",
              "      <td>5</td>\n",
              "      <td>3.05</td>\n",
              "      <td>0.000</td>\n",
              "      <td>0.000</td>\n",
              "      <td>-</td>\n",
              "      <td>-</td>\n",
              "      <td>0.000</td>\n",
              "      <td>0.000</td>\n",
              "      <td>CASH</td>\n",
              "      <td>10.5</td>\n",
              "      <td>0.5</td>\n",
              "      <td>-</td>\n",
              "      <td>0.0</td>\n",
              "      <td>0.0</td>\n",
              "      <td>11.0</td>\n",
              "    </tr>\n",
              "    <tr>\n",
              "      <th>2</th>\n",
              "      <td>DDS</td>\n",
              "      <td>2009-02-22 00:39:23</td>\n",
              "      <td>2009-02-22 00:45:52</td>\n",
              "      <td>1</td>\n",
              "      <td>1.50</td>\n",
              "      <td>-73.137</td>\n",
              "      <td>41.366</td>\n",
              "      <td>-</td>\n",
              "      <td>-</td>\n",
              "      <td>-73.137</td>\n",
              "      <td>41.366</td>\n",
              "      <td>CASH</td>\n",
              "      <td>5.7</td>\n",
              "      <td>0.5</td>\n",
              "      <td>-</td>\n",
              "      <td>0.0</td>\n",
              "      <td>0.0</td>\n",
              "      <td>6.2</td>\n",
              "    </tr>\n",
              "    <tr>\n",
              "      <th>3</th>\n",
              "      <td>VTS</td>\n",
              "      <td>2009-02-28 12:47:00</td>\n",
              "      <td>2009-02-28 12:54:00</td>\n",
              "      <td>1</td>\n",
              "      <td>1.42</td>\n",
              "      <td>-73.980</td>\n",
              "      <td>40.748</td>\n",
              "      <td>-</td>\n",
              "      <td>-</td>\n",
              "      <td>-73.996</td>\n",
              "      <td>40.737</td>\n",
              "      <td>CASH</td>\n",
              "      <td>6.1</td>\n",
              "      <td>0.0</td>\n",
              "      <td>-</td>\n",
              "      <td>0.0</td>\n",
              "      <td>0.0</td>\n",
              "      <td>6.1</td>\n",
              "    </tr>\n",
              "    <tr>\n",
              "      <th>4</th>\n",
              "      <td>DDS</td>\n",
              "      <td>2009-02-05 18:34:35</td>\n",
              "      <td>2009-02-05 18:43:26</td>\n",
              "      <td>1</td>\n",
              "      <td>1.50</td>\n",
              "      <td>-73.137</td>\n",
              "      <td>41.366</td>\n",
              "      <td>-</td>\n",
              "      <td>-</td>\n",
              "      <td>-73.137</td>\n",
              "      <td>41.366</td>\n",
              "      <td>CASH</td>\n",
              "      <td>6.9</td>\n",
              "      <td>1.0</td>\n",
              "      <td>-</td>\n",
              "      <td>0.0</td>\n",
              "      <td>0.0</td>\n",
              "      <td>7.9</td>\n",
              "    </tr>\n",
              "  </tbody>\n",
              "</table>\n",
              "</div>\n",
              "    <div class=\"colab-df-buttons\">\n",
              "\n",
              "  <div class=\"colab-df-container\">\n",
              "    <button class=\"colab-df-convert\" onclick=\"convertToInteractive('df-186ec7ee-9341-4802-9f79-d214bccef234')\"\n",
              "            title=\"Convert this dataframe to an interactive table.\"\n",
              "            style=\"display:none;\">\n",
              "\n",
              "  <svg xmlns=\"http://www.w3.org/2000/svg\" height=\"24px\" viewBox=\"0 -960 960 960\">\n",
              "    <path d=\"M120-120v-720h720v720H120Zm60-500h600v-160H180v160Zm220 220h160v-160H400v160Zm0 220h160v-160H400v160ZM180-400h160v-160H180v160Zm440 0h160v-160H620v160ZM180-180h160v-160H180v160Zm440 0h160v-160H620v160Z\"/>\n",
              "  </svg>\n",
              "    </button>\n",
              "\n",
              "  <style>\n",
              "    .colab-df-container {\n",
              "      display:flex;\n",
              "      gap: 12px;\n",
              "    }\n",
              "\n",
              "    .colab-df-convert {\n",
              "      background-color: #E8F0FE;\n",
              "      border: none;\n",
              "      border-radius: 50%;\n",
              "      cursor: pointer;\n",
              "      display: none;\n",
              "      fill: #1967D2;\n",
              "      height: 32px;\n",
              "      padding: 0 0 0 0;\n",
              "      width: 32px;\n",
              "    }\n",
              "\n",
              "    .colab-df-convert:hover {\n",
              "      background-color: #E2EBFA;\n",
              "      box-shadow: 0px 1px 2px rgba(60, 64, 67, 0.3), 0px 1px 3px 1px rgba(60, 64, 67, 0.15);\n",
              "      fill: #174EA6;\n",
              "    }\n",
              "\n",
              "    .colab-df-buttons div {\n",
              "      margin-bottom: 4px;\n",
              "    }\n",
              "\n",
              "    [theme=dark] .colab-df-convert {\n",
              "      background-color: #3B4455;\n",
              "      fill: #D2E3FC;\n",
              "    }\n",
              "\n",
              "    [theme=dark] .colab-df-convert:hover {\n",
              "      background-color: #434B5C;\n",
              "      box-shadow: 0px 1px 3px 1px rgba(0, 0, 0, 0.15);\n",
              "      filter: drop-shadow(0px 1px 2px rgba(0, 0, 0, 0.3));\n",
              "      fill: #FFFFFF;\n",
              "    }\n",
              "  </style>\n",
              "\n",
              "    <script>\n",
              "      const buttonEl =\n",
              "        document.querySelector('#df-186ec7ee-9341-4802-9f79-d214bccef234 button.colab-df-convert');\n",
              "      buttonEl.style.display =\n",
              "        google.colab.kernel.accessAllowed ? 'block' : 'none';\n",
              "\n",
              "      async function convertToInteractive(key) {\n",
              "        const element = document.querySelector('#df-186ec7ee-9341-4802-9f79-d214bccef234');\n",
              "        const dataTable =\n",
              "          await google.colab.kernel.invokeFunction('convertToInteractive',\n",
              "                                                    [key], {});\n",
              "        if (!dataTable) return;\n",
              "\n",
              "        const docLinkHtml = 'Like what you see? Visit the ' +\n",
              "          '<a target=\"_blank\" href=https://colab.research.google.com/notebooks/data_table.ipynb>data table notebook</a>'\n",
              "          + ' to learn more about interactive tables.';\n",
              "        element.innerHTML = '';\n",
              "        dataTable['output_type'] = 'display_data';\n",
              "        await google.colab.output.renderOutput(dataTable, element);\n",
              "        const docLink = document.createElement('div');\n",
              "        docLink.innerHTML = docLinkHtml;\n",
              "        element.appendChild(docLink);\n",
              "      }\n",
              "    </script>\n",
              "  </div>\n",
              "\n",
              "\n",
              "<div id=\"df-f9ef96e0-6498-4b90-aed7-428507f4e9eb\">\n",
              "  <button class=\"colab-df-quickchart\" onclick=\"quickchart('df-f9ef96e0-6498-4b90-aed7-428507f4e9eb')\"\n",
              "            title=\"Suggest charts\"\n",
              "            style=\"display:none;\">\n",
              "\n",
              "<svg xmlns=\"http://www.w3.org/2000/svg\" height=\"24px\"viewBox=\"0 0 24 24\"\n",
              "     width=\"24px\">\n",
              "    <g>\n",
              "        <path d=\"M19 3H5c-1.1 0-2 .9-2 2v14c0 1.1.9 2 2 2h14c1.1 0 2-.9 2-2V5c0-1.1-.9-2-2-2zM9 17H7v-7h2v7zm4 0h-2V7h2v10zm4 0h-2v-4h2v4z\"/>\n",
              "    </g>\n",
              "</svg>\n",
              "  </button>\n",
              "\n",
              "<style>\n",
              "  .colab-df-quickchart {\n",
              "      --bg-color: #E8F0FE;\n",
              "      --fill-color: #1967D2;\n",
              "      --hover-bg-color: #E2EBFA;\n",
              "      --hover-fill-color: #174EA6;\n",
              "      --disabled-fill-color: #AAA;\n",
              "      --disabled-bg-color: #DDD;\n",
              "  }\n",
              "\n",
              "  [theme=dark] .colab-df-quickchart {\n",
              "      --bg-color: #3B4455;\n",
              "      --fill-color: #D2E3FC;\n",
              "      --hover-bg-color: #434B5C;\n",
              "      --hover-fill-color: #FFFFFF;\n",
              "      --disabled-bg-color: #3B4455;\n",
              "      --disabled-fill-color: #666;\n",
              "  }\n",
              "\n",
              "  .colab-df-quickchart {\n",
              "    background-color: var(--bg-color);\n",
              "    border: none;\n",
              "    border-radius: 50%;\n",
              "    cursor: pointer;\n",
              "    display: none;\n",
              "    fill: var(--fill-color);\n",
              "    height: 32px;\n",
              "    padding: 0;\n",
              "    width: 32px;\n",
              "  }\n",
              "\n",
              "  .colab-df-quickchart:hover {\n",
              "    background-color: var(--hover-bg-color);\n",
              "    box-shadow: 0 1px 2px rgba(60, 64, 67, 0.3), 0 1px 3px 1px rgba(60, 64, 67, 0.15);\n",
              "    fill: var(--button-hover-fill-color);\n",
              "  }\n",
              "\n",
              "  .colab-df-quickchart-complete:disabled,\n",
              "  .colab-df-quickchart-complete:disabled:hover {\n",
              "    background-color: var(--disabled-bg-color);\n",
              "    fill: var(--disabled-fill-color);\n",
              "    box-shadow: none;\n",
              "  }\n",
              "\n",
              "  .colab-df-spinner {\n",
              "    border: 2px solid var(--fill-color);\n",
              "    border-color: transparent;\n",
              "    border-bottom-color: var(--fill-color);\n",
              "    animation:\n",
              "      spin 1s steps(1) infinite;\n",
              "  }\n",
              "\n",
              "  @keyframes spin {\n",
              "    0% {\n",
              "      border-color: transparent;\n",
              "      border-bottom-color: var(--fill-color);\n",
              "      border-left-color: var(--fill-color);\n",
              "    }\n",
              "    20% {\n",
              "      border-color: transparent;\n",
              "      border-left-color: var(--fill-color);\n",
              "      border-top-color: var(--fill-color);\n",
              "    }\n",
              "    30% {\n",
              "      border-color: transparent;\n",
              "      border-left-color: var(--fill-color);\n",
              "      border-top-color: var(--fill-color);\n",
              "      border-right-color: var(--fill-color);\n",
              "    }\n",
              "    40% {\n",
              "      border-color: transparent;\n",
              "      border-right-color: var(--fill-color);\n",
              "      border-top-color: var(--fill-color);\n",
              "    }\n",
              "    60% {\n",
              "      border-color: transparent;\n",
              "      border-right-color: var(--fill-color);\n",
              "    }\n",
              "    80% {\n",
              "      border-color: transparent;\n",
              "      border-right-color: var(--fill-color);\n",
              "      border-bottom-color: var(--fill-color);\n",
              "    }\n",
              "    90% {\n",
              "      border-color: transparent;\n",
              "      border-bottom-color: var(--fill-color);\n",
              "    }\n",
              "  }\n",
              "</style>\n",
              "\n",
              "  <script>\n",
              "    async function quickchart(key) {\n",
              "      const quickchartButtonEl =\n",
              "        document.querySelector('#' + key + ' button');\n",
              "      quickchartButtonEl.disabled = true;  // To prevent multiple clicks.\n",
              "      quickchartButtonEl.classList.add('colab-df-spinner');\n",
              "      try {\n",
              "        const charts = await google.colab.kernel.invokeFunction(\n",
              "            'suggestCharts', [key], {});\n",
              "      } catch (error) {\n",
              "        console.error('Error during call to suggestCharts:', error);\n",
              "      }\n",
              "      quickchartButtonEl.classList.remove('colab-df-spinner');\n",
              "      quickchartButtonEl.classList.add('colab-df-quickchart-complete');\n",
              "    }\n",
              "    (() => {\n",
              "      let quickchartButtonEl =\n",
              "        document.querySelector('#df-f9ef96e0-6498-4b90-aed7-428507f4e9eb button');\n",
              "      quickchartButtonEl.style.display =\n",
              "        google.colab.kernel.accessAllowed ? 'block' : 'none';\n",
              "    })();\n",
              "  </script>\n",
              "</div>\n",
              "\n",
              "    </div>\n",
              "  </div>\n"
            ],
            "application/vnd.google.colaboratory.intrinsic+json": {
              "type": "dataframe",
              "variable_name": "NYTaxi",
              "repr_error": "'str' object has no attribute 'empty'"
            }
          },
          "metadata": {},
          "execution_count": 5
        }
      ]
    },
    {
      "cell_type": "code",
      "source": [
        "# Check the shape\n",
        "NYTaxi.shape"
      ],
      "metadata": {
        "colab": {
          "base_uri": "https://localhost:8080/"
        },
        "id": "2Zrr7-MbBSjW",
        "outputId": "3d6db171-fe85-45a2-f9f3-32321f888550"
      },
      "execution_count": null,
      "outputs": [
        {
          "output_type": "execute_result",
          "data": {
            "text/plain": [
              "(2000, 18)"
            ]
          },
          "metadata": {},
          "execution_count": 6
        }
      ]
    },
    {
      "cell_type": "code",
      "source": [
        "# Check the data type\n",
        "NYTaxi.info()"
      ],
      "metadata": {
        "colab": {
          "base_uri": "https://localhost:8080/"
        },
        "id": "XRUjTmAGEWxV",
        "outputId": "d3c574c7-ac23-4bfc-a618-e363dd69e57e"
      },
      "execution_count": null,
      "outputs": [
        {
          "output_type": "stream",
          "name": "stdout",
          "text": [
            "<class 'pandas.core.frame.DataFrame'>\n",
            "RangeIndex: 2000 entries, 0 to 1999\n",
            "Data columns (total 18 columns):\n",
            " #   Column                 Non-Null Count  Dtype  \n",
            "---  ------                 --------------  -----  \n",
            " 0   vendor_name            2000 non-null   object \n",
            " 1   Trip_Pickup_DateTime   2000 non-null   object \n",
            " 2   Trip_Dropoff_DateTime  2000 non-null   object \n",
            " 3   Passenger_Count        2000 non-null   int64  \n",
            " 4   Trip_Distance          2000 non-null   float64\n",
            " 5   Start_Lon              2000 non-null   float64\n",
            " 6   Start_Lat              2000 non-null   float64\n",
            " 7   Rate_Code              2000 non-null   object \n",
            " 8   store_and_forward      2000 non-null   object \n",
            " 9   End_Lon                2000 non-null   float64\n",
            " 10  End_Lat                2000 non-null   float64\n",
            " 11  Payment_Type           2000 non-null   object \n",
            " 12  Fare_Amt               2000 non-null   float64\n",
            " 13  surcharge              2000 non-null   float64\n",
            " 14  mta_tax                2000 non-null   object \n",
            " 15  Tip_Amt                2000 non-null   float64\n",
            " 16  Tolls_Amt              2000 non-null   float64\n",
            " 17  Total_Amt              2000 non-null   float64\n",
            "dtypes: float64(10), int64(1), object(7)\n",
            "memory usage: 281.4+ KB\n"
          ]
        }
      ]
    },
    {
      "cell_type": "code",
      "source": [
        "# Order the dataset by pickup date and time and drop the default row numbers\n",
        "NYTaxi = NYTaxi.sort_values(by='Trip_Pickup_DateTime')\n",
        "NYTaxi = NYTaxi.reset_index(drop=True)"
      ],
      "metadata": {
        "id": "zD-qlUzbAqvU"
      },
      "execution_count": null,
      "outputs": []
    },
    {
      "cell_type": "code",
      "source": [
        "# Print the unique values of the \"Rate Code\" column\n",
        "rc_values = NYTaxi['Rate_Code'].unique()\n",
        "print(\"Unique values:\", rc_values)"
      ],
      "metadata": {
        "id": "oOrSXgqwzg2q",
        "colab": {
          "base_uri": "https://localhost:8080/"
        },
        "outputId": "8158c396-b1cb-47c9-b653-d784cb898b5a"
      },
      "execution_count": null,
      "outputs": [
        {
          "output_type": "stream",
          "name": "stdout",
          "text": [
            "Unique values: ['-']\n"
          ]
        }
      ]
    },
    {
      "cell_type": "code",
      "source": [
        "# Print the unique values of the \"Store and Forward\" column\n",
        "sf_values = NYTaxi['store_and_forward'].unique()\n",
        "print(\"Unique values:\", sf_values)"
      ],
      "metadata": {
        "id": "Oee492b-0Ktk",
        "colab": {
          "base_uri": "https://localhost:8080/"
        },
        "outputId": "75df77f9-4145-497e-e9dd-fb9adb13915c"
      },
      "execution_count": null,
      "outputs": [
        {
          "output_type": "stream",
          "name": "stdout",
          "text": [
            "Unique values: ['-' '0' '1']\n"
          ]
        }
      ]
    },
    {
      "cell_type": "code",
      "source": [
        "# Print the value counts for the \"Store and Forward\" column\n",
        "sf_counts = NYTaxi['store_and_forward'].value_counts(ascending=True)\n",
        "print(\"Value counts:\", sf_counts)"
      ],
      "metadata": {
        "id": "bPIHh1A80lb1",
        "colab": {
          "base_uri": "https://localhost:8080/"
        },
        "outputId": "c58b313f-3d08-4254-aeaa-73959d9a8a43"
      },
      "execution_count": null,
      "outputs": [
        {
          "output_type": "stream",
          "name": "stdout",
          "text": [
            "Value counts: 1       1\n",
            "0      60\n",
            "-    1939\n",
            "Name: store_and_forward, dtype: int64\n"
          ]
        }
      ]
    },
    {
      "cell_type": "code",
      "source": [
        "# Print the unique values of the \"mta_tax\" column\n",
        "mta_values = NYTaxi['mta_tax'].unique()\n",
        "print(\"Unique values:\", mta_values)"
      ],
      "metadata": {
        "id": "ge8HqPqGC9s-",
        "colab": {
          "base_uri": "https://localhost:8080/"
        },
        "outputId": "1b84f51f-5947-4e68-8f14-7bab65e61dec"
      },
      "execution_count": null,
      "outputs": [
        {
          "output_type": "stream",
          "name": "stdout",
          "text": [
            "Unique values: ['-']\n"
          ]
        }
      ]
    },
    {
      "cell_type": "code",
      "source": [
        "# Drop \"Rate Code\", \"Store and Forward\", and \"mta_tax\" columns\n",
        "NYTaxi = NYTaxi.drop(columns=['store_and_forward', 'Rate_Code', 'mta_tax'])"
      ],
      "metadata": {
        "id": "xwlna8yj03ev"
      },
      "execution_count": null,
      "outputs": []
    },
    {
      "cell_type": "code",
      "source": [
        "# Print the value counts for the \"vendor_name\" column\n",
        "vn_counts = NYTaxi['vendor_name'].value_counts(ascending=True)\n",
        "print(\"Value counts:\", vn_counts)"
      ],
      "metadata": {
        "id": "1KkEIOWz-ZT-",
        "colab": {
          "base_uri": "https://localhost:8080/"
        },
        "outputId": "7484b3a1-e473-4e40-bcaf-e3024d5f7b1b"
      },
      "execution_count": null,
      "outputs": [
        {
          "output_type": "stream",
          "name": "stdout",
          "text": [
            "Value counts: DDS      72\n",
            "CMT     289\n",
            "VTS    1639\n",
            "Name: vendor_name, dtype: int64\n"
          ]
        }
      ]
    },
    {
      "cell_type": "code",
      "source": [
        "# Print the value counts for the \"Payment_Type\" column\n",
        "pt_counts = NYTaxi['Payment_Type'].value_counts(ascending=True)\n",
        "print(\"Value counts:\", pt_counts)"
      ],
      "metadata": {
        "id": "D6sytqkA-z1X",
        "colab": {
          "base_uri": "https://localhost:8080/"
        },
        "outputId": "b277dd1b-faf9-4345-f59e-7eb45c7ab72a"
      },
      "execution_count": null,
      "outputs": [
        {
          "output_type": "stream",
          "name": "stdout",
          "text": [
            "Value counts: No Charge       1\n",
            "CREDIT         12\n",
            "Cash          209\n",
            "Credit        482\n",
            "CASH         1296\n",
            "Name: Payment_Type, dtype: int64\n"
          ]
        }
      ]
    },
    {
      "cell_type": "code",
      "source": [
        "# Consolidate duplicate values in the \"Payment_Type\" column\n",
        "NYTaxi['Payment_Type'] = NYTaxi['Payment_Type'].replace('CASH', 'Cash')\n",
        "NYTaxi['Payment_Type'] = NYTaxi['Payment_Type'].replace('CREDIT', 'Credit')"
      ],
      "metadata": {
        "id": "l48Wm1uI_ryM"
      },
      "execution_count": null,
      "outputs": []
    },
    {
      "cell_type": "code",
      "source": [
        "# Recheck the \"Payment_Type\" column\n",
        "pt_counts = NYTaxi['Payment_Type'].value_counts(ascending=True)\n",
        "print(\"Value counts:\", pt_counts)"
      ],
      "metadata": {
        "id": "hnKR9A03_6Js",
        "colab": {
          "base_uri": "https://localhost:8080/"
        },
        "outputId": "8287ddfa-585c-44f9-ee05-f388f1bd6618"
      },
      "execution_count": null,
      "outputs": [
        {
          "output_type": "stream",
          "name": "stdout",
          "text": [
            "Value counts: No Charge       1\n",
            "Credit        494\n",
            "Cash         1505\n",
            "Name: Payment_Type, dtype: int64\n"
          ]
        }
      ]
    },
    {
      "cell_type": "code",
      "source": [
        "# Check for duplicate coordinates\n",
        "\n",
        "# Create a variable for all rows with matching start and end coordinates\n",
        "matching_coordinates = NYTaxi[(NYTaxi['Start_Lat'] == NYTaxi['End_Lat']) & (NYTaxi['Start_Lon'] == NYTaxi['End_Lon'])]\n",
        "\n",
        "# Display rows where coordinates match\n",
        "print(\"Total count of rows where coordinates match:\", matching_coordinates.shape[0])"
      ],
      "metadata": {
        "colab": {
          "base_uri": "https://localhost:8080/"
        },
        "id": "OAdG7dUReDM8",
        "outputId": "e43c1e6f-c64c-4d58-8ce5-ec66117c20c0"
      },
      "execution_count": null,
      "outputs": [
        {
          "output_type": "stream",
          "name": "stdout",
          "text": [
            "Total count of rows where coordinates match: 52\n"
          ]
        }
      ]
    },
    {
      "cell_type": "code",
      "source": [
        "# Drop all rows where coordinates match\n",
        "NYTaxi = NYTaxi.drop(matching_coordinates.index)"
      ],
      "metadata": {
        "id": "vEWGbtnaggQN"
      },
      "execution_count": null,
      "outputs": []
    },
    {
      "cell_type": "code",
      "source": [
        "# Recheck the dataset\n",
        "NYTaxi.head()"
      ],
      "metadata": {
        "id": "NIjY0ILpAaFk",
        "colab": {
          "base_uri": "https://localhost:8080/",
          "height": 226
        },
        "outputId": "716adc85-9964-4e16-d032-3c34459cbf39"
      },
      "execution_count": null,
      "outputs": [
        {
          "output_type": "execute_result",
          "data": {
            "text/plain": [
              "  vendor_name Trip_Pickup_DateTime Trip_Dropoff_DateTime  Passenger_Count  \\\n",
              "0         CMT  2009-02-01 00:26:07   2009-02-01 00:33:34                1   \n",
              "1         CMT  2009-02-01 02:53:37   2009-02-01 03:03:42                1   \n",
              "2         VTS  2009-02-01 10:01:00   2009-02-01 10:10:00                1   \n",
              "3         VTS  2009-02-01 10:42:00   2009-02-01 10:44:00                2   \n",
              "4         VTS  2009-02-01 11:22:00   2009-02-01 11:32:00                3   \n",
              "\n",
              "   Trip_Distance  Start_Lon  Start_Lat  End_Lon  End_Lat Payment_Type  \\\n",
              "0           1.30    -73.997     40.745  -73.989   40.732         Cash   \n",
              "1           3.00    -73.998     40.745  -74.015   40.717         Cash   \n",
              "2           3.37    -73.994     40.682  -74.010   40.706         Cash   \n",
              "3           1.13    -73.982     40.731  -74.000   40.737       Credit   \n",
              "4           1.26    -73.952     40.769  -73.951   40.777         Cash   \n",
              "\n",
              "   Fare_Amt  surcharge  Tip_Amt  Tolls_Amt  Total_Amt  \n",
              "0       6.6        0.0      0.0        0.0        6.6  \n",
              "1      10.2        0.0      0.0        0.0       10.2  \n",
              "2      10.5        0.0      0.0        0.0       10.5  \n",
              "3       4.9        0.0      1.5        0.0        6.4  \n",
              "4       7.7        0.0      0.0        0.0        7.7  "
            ],
            "text/html": [
              "\n",
              "  <div id=\"df-c077ee4d-db40-40f7-875a-f2f724d8171c\" class=\"colab-df-container\">\n",
              "    <div>\n",
              "<style scoped>\n",
              "    .dataframe tbody tr th:only-of-type {\n",
              "        vertical-align: middle;\n",
              "    }\n",
              "\n",
              "    .dataframe tbody tr th {\n",
              "        vertical-align: top;\n",
              "    }\n",
              "\n",
              "    .dataframe thead th {\n",
              "        text-align: right;\n",
              "    }\n",
              "</style>\n",
              "<table border=\"1\" class=\"dataframe\">\n",
              "  <thead>\n",
              "    <tr style=\"text-align: right;\">\n",
              "      <th></th>\n",
              "      <th>vendor_name</th>\n",
              "      <th>Trip_Pickup_DateTime</th>\n",
              "      <th>Trip_Dropoff_DateTime</th>\n",
              "      <th>Passenger_Count</th>\n",
              "      <th>Trip_Distance</th>\n",
              "      <th>Start_Lon</th>\n",
              "      <th>Start_Lat</th>\n",
              "      <th>End_Lon</th>\n",
              "      <th>End_Lat</th>\n",
              "      <th>Payment_Type</th>\n",
              "      <th>Fare_Amt</th>\n",
              "      <th>surcharge</th>\n",
              "      <th>Tip_Amt</th>\n",
              "      <th>Tolls_Amt</th>\n",
              "      <th>Total_Amt</th>\n",
              "    </tr>\n",
              "  </thead>\n",
              "  <tbody>\n",
              "    <tr>\n",
              "      <th>0</th>\n",
              "      <td>CMT</td>\n",
              "      <td>2009-02-01 00:26:07</td>\n",
              "      <td>2009-02-01 00:33:34</td>\n",
              "      <td>1</td>\n",
              "      <td>1.30</td>\n",
              "      <td>-73.997</td>\n",
              "      <td>40.745</td>\n",
              "      <td>-73.989</td>\n",
              "      <td>40.732</td>\n",
              "      <td>Cash</td>\n",
              "      <td>6.6</td>\n",
              "      <td>0.0</td>\n",
              "      <td>0.0</td>\n",
              "      <td>0.0</td>\n",
              "      <td>6.6</td>\n",
              "    </tr>\n",
              "    <tr>\n",
              "      <th>1</th>\n",
              "      <td>CMT</td>\n",
              "      <td>2009-02-01 02:53:37</td>\n",
              "      <td>2009-02-01 03:03:42</td>\n",
              "      <td>1</td>\n",
              "      <td>3.00</td>\n",
              "      <td>-73.998</td>\n",
              "      <td>40.745</td>\n",
              "      <td>-74.015</td>\n",
              "      <td>40.717</td>\n",
              "      <td>Cash</td>\n",
              "      <td>10.2</td>\n",
              "      <td>0.0</td>\n",
              "      <td>0.0</td>\n",
              "      <td>0.0</td>\n",
              "      <td>10.2</td>\n",
              "    </tr>\n",
              "    <tr>\n",
              "      <th>2</th>\n",
              "      <td>VTS</td>\n",
              "      <td>2009-02-01 10:01:00</td>\n",
              "      <td>2009-02-01 10:10:00</td>\n",
              "      <td>1</td>\n",
              "      <td>3.37</td>\n",
              "      <td>-73.994</td>\n",
              "      <td>40.682</td>\n",
              "      <td>-74.010</td>\n",
              "      <td>40.706</td>\n",
              "      <td>Cash</td>\n",
              "      <td>10.5</td>\n",
              "      <td>0.0</td>\n",
              "      <td>0.0</td>\n",
              "      <td>0.0</td>\n",
              "      <td>10.5</td>\n",
              "    </tr>\n",
              "    <tr>\n",
              "      <th>3</th>\n",
              "      <td>VTS</td>\n",
              "      <td>2009-02-01 10:42:00</td>\n",
              "      <td>2009-02-01 10:44:00</td>\n",
              "      <td>2</td>\n",
              "      <td>1.13</td>\n",
              "      <td>-73.982</td>\n",
              "      <td>40.731</td>\n",
              "      <td>-74.000</td>\n",
              "      <td>40.737</td>\n",
              "      <td>Credit</td>\n",
              "      <td>4.9</td>\n",
              "      <td>0.0</td>\n",
              "      <td>1.5</td>\n",
              "      <td>0.0</td>\n",
              "      <td>6.4</td>\n",
              "    </tr>\n",
              "    <tr>\n",
              "      <th>4</th>\n",
              "      <td>VTS</td>\n",
              "      <td>2009-02-01 11:22:00</td>\n",
              "      <td>2009-02-01 11:32:00</td>\n",
              "      <td>3</td>\n",
              "      <td>1.26</td>\n",
              "      <td>-73.952</td>\n",
              "      <td>40.769</td>\n",
              "      <td>-73.951</td>\n",
              "      <td>40.777</td>\n",
              "      <td>Cash</td>\n",
              "      <td>7.7</td>\n",
              "      <td>0.0</td>\n",
              "      <td>0.0</td>\n",
              "      <td>0.0</td>\n",
              "      <td>7.7</td>\n",
              "    </tr>\n",
              "  </tbody>\n",
              "</table>\n",
              "</div>\n",
              "    <div class=\"colab-df-buttons\">\n",
              "\n",
              "  <div class=\"colab-df-container\">\n",
              "    <button class=\"colab-df-convert\" onclick=\"convertToInteractive('df-c077ee4d-db40-40f7-875a-f2f724d8171c')\"\n",
              "            title=\"Convert this dataframe to an interactive table.\"\n",
              "            style=\"display:none;\">\n",
              "\n",
              "  <svg xmlns=\"http://www.w3.org/2000/svg\" height=\"24px\" viewBox=\"0 -960 960 960\">\n",
              "    <path d=\"M120-120v-720h720v720H120Zm60-500h600v-160H180v160Zm220 220h160v-160H400v160Zm0 220h160v-160H400v160ZM180-400h160v-160H180v160Zm440 0h160v-160H620v160ZM180-180h160v-160H180v160Zm440 0h160v-160H620v160Z\"/>\n",
              "  </svg>\n",
              "    </button>\n",
              "\n",
              "  <style>\n",
              "    .colab-df-container {\n",
              "      display:flex;\n",
              "      gap: 12px;\n",
              "    }\n",
              "\n",
              "    .colab-df-convert {\n",
              "      background-color: #E8F0FE;\n",
              "      border: none;\n",
              "      border-radius: 50%;\n",
              "      cursor: pointer;\n",
              "      display: none;\n",
              "      fill: #1967D2;\n",
              "      height: 32px;\n",
              "      padding: 0 0 0 0;\n",
              "      width: 32px;\n",
              "    }\n",
              "\n",
              "    .colab-df-convert:hover {\n",
              "      background-color: #E2EBFA;\n",
              "      box-shadow: 0px 1px 2px rgba(60, 64, 67, 0.3), 0px 1px 3px 1px rgba(60, 64, 67, 0.15);\n",
              "      fill: #174EA6;\n",
              "    }\n",
              "\n",
              "    .colab-df-buttons div {\n",
              "      margin-bottom: 4px;\n",
              "    }\n",
              "\n",
              "    [theme=dark] .colab-df-convert {\n",
              "      background-color: #3B4455;\n",
              "      fill: #D2E3FC;\n",
              "    }\n",
              "\n",
              "    [theme=dark] .colab-df-convert:hover {\n",
              "      background-color: #434B5C;\n",
              "      box-shadow: 0px 1px 3px 1px rgba(0, 0, 0, 0.15);\n",
              "      filter: drop-shadow(0px 1px 2px rgba(0, 0, 0, 0.3));\n",
              "      fill: #FFFFFF;\n",
              "    }\n",
              "  </style>\n",
              "\n",
              "    <script>\n",
              "      const buttonEl =\n",
              "        document.querySelector('#df-c077ee4d-db40-40f7-875a-f2f724d8171c button.colab-df-convert');\n",
              "      buttonEl.style.display =\n",
              "        google.colab.kernel.accessAllowed ? 'block' : 'none';\n",
              "\n",
              "      async function convertToInteractive(key) {\n",
              "        const element = document.querySelector('#df-c077ee4d-db40-40f7-875a-f2f724d8171c');\n",
              "        const dataTable =\n",
              "          await google.colab.kernel.invokeFunction('convertToInteractive',\n",
              "                                                    [key], {});\n",
              "        if (!dataTable) return;\n",
              "\n",
              "        const docLinkHtml = 'Like what you see? Visit the ' +\n",
              "          '<a target=\"_blank\" href=https://colab.research.google.com/notebooks/data_table.ipynb>data table notebook</a>'\n",
              "          + ' to learn more about interactive tables.';\n",
              "        element.innerHTML = '';\n",
              "        dataTable['output_type'] = 'display_data';\n",
              "        await google.colab.output.renderOutput(dataTable, element);\n",
              "        const docLink = document.createElement('div');\n",
              "        docLink.innerHTML = docLinkHtml;\n",
              "        element.appendChild(docLink);\n",
              "      }\n",
              "    </script>\n",
              "  </div>\n",
              "\n",
              "\n",
              "<div id=\"df-adeb3dfb-7145-462c-a7b8-4611d0a9af28\">\n",
              "  <button class=\"colab-df-quickchart\" onclick=\"quickchart('df-adeb3dfb-7145-462c-a7b8-4611d0a9af28')\"\n",
              "            title=\"Suggest charts\"\n",
              "            style=\"display:none;\">\n",
              "\n",
              "<svg xmlns=\"http://www.w3.org/2000/svg\" height=\"24px\"viewBox=\"0 0 24 24\"\n",
              "     width=\"24px\">\n",
              "    <g>\n",
              "        <path d=\"M19 3H5c-1.1 0-2 .9-2 2v14c0 1.1.9 2 2 2h14c1.1 0 2-.9 2-2V5c0-1.1-.9-2-2-2zM9 17H7v-7h2v7zm4 0h-2V7h2v10zm4 0h-2v-4h2v4z\"/>\n",
              "    </g>\n",
              "</svg>\n",
              "  </button>\n",
              "\n",
              "<style>\n",
              "  .colab-df-quickchart {\n",
              "      --bg-color: #E8F0FE;\n",
              "      --fill-color: #1967D2;\n",
              "      --hover-bg-color: #E2EBFA;\n",
              "      --hover-fill-color: #174EA6;\n",
              "      --disabled-fill-color: #AAA;\n",
              "      --disabled-bg-color: #DDD;\n",
              "  }\n",
              "\n",
              "  [theme=dark] .colab-df-quickchart {\n",
              "      --bg-color: #3B4455;\n",
              "      --fill-color: #D2E3FC;\n",
              "      --hover-bg-color: #434B5C;\n",
              "      --hover-fill-color: #FFFFFF;\n",
              "      --disabled-bg-color: #3B4455;\n",
              "      --disabled-fill-color: #666;\n",
              "  }\n",
              "\n",
              "  .colab-df-quickchart {\n",
              "    background-color: var(--bg-color);\n",
              "    border: none;\n",
              "    border-radius: 50%;\n",
              "    cursor: pointer;\n",
              "    display: none;\n",
              "    fill: var(--fill-color);\n",
              "    height: 32px;\n",
              "    padding: 0;\n",
              "    width: 32px;\n",
              "  }\n",
              "\n",
              "  .colab-df-quickchart:hover {\n",
              "    background-color: var(--hover-bg-color);\n",
              "    box-shadow: 0 1px 2px rgba(60, 64, 67, 0.3), 0 1px 3px 1px rgba(60, 64, 67, 0.15);\n",
              "    fill: var(--button-hover-fill-color);\n",
              "  }\n",
              "\n",
              "  .colab-df-quickchart-complete:disabled,\n",
              "  .colab-df-quickchart-complete:disabled:hover {\n",
              "    background-color: var(--disabled-bg-color);\n",
              "    fill: var(--disabled-fill-color);\n",
              "    box-shadow: none;\n",
              "  }\n",
              "\n",
              "  .colab-df-spinner {\n",
              "    border: 2px solid var(--fill-color);\n",
              "    border-color: transparent;\n",
              "    border-bottom-color: var(--fill-color);\n",
              "    animation:\n",
              "      spin 1s steps(1) infinite;\n",
              "  }\n",
              "\n",
              "  @keyframes spin {\n",
              "    0% {\n",
              "      border-color: transparent;\n",
              "      border-bottom-color: var(--fill-color);\n",
              "      border-left-color: var(--fill-color);\n",
              "    }\n",
              "    20% {\n",
              "      border-color: transparent;\n",
              "      border-left-color: var(--fill-color);\n",
              "      border-top-color: var(--fill-color);\n",
              "    }\n",
              "    30% {\n",
              "      border-color: transparent;\n",
              "      border-left-color: var(--fill-color);\n",
              "      border-top-color: var(--fill-color);\n",
              "      border-right-color: var(--fill-color);\n",
              "    }\n",
              "    40% {\n",
              "      border-color: transparent;\n",
              "      border-right-color: var(--fill-color);\n",
              "      border-top-color: var(--fill-color);\n",
              "    }\n",
              "    60% {\n",
              "      border-color: transparent;\n",
              "      border-right-color: var(--fill-color);\n",
              "    }\n",
              "    80% {\n",
              "      border-color: transparent;\n",
              "      border-right-color: var(--fill-color);\n",
              "      border-bottom-color: var(--fill-color);\n",
              "    }\n",
              "    90% {\n",
              "      border-color: transparent;\n",
              "      border-bottom-color: var(--fill-color);\n",
              "    }\n",
              "  }\n",
              "</style>\n",
              "\n",
              "  <script>\n",
              "    async function quickchart(key) {\n",
              "      const quickchartButtonEl =\n",
              "        document.querySelector('#' + key + ' button');\n",
              "      quickchartButtonEl.disabled = true;  // To prevent multiple clicks.\n",
              "      quickchartButtonEl.classList.add('colab-df-spinner');\n",
              "      try {\n",
              "        const charts = await google.colab.kernel.invokeFunction(\n",
              "            'suggestCharts', [key], {});\n",
              "      } catch (error) {\n",
              "        console.error('Error during call to suggestCharts:', error);\n",
              "      }\n",
              "      quickchartButtonEl.classList.remove('colab-df-spinner');\n",
              "      quickchartButtonEl.classList.add('colab-df-quickchart-complete');\n",
              "    }\n",
              "    (() => {\n",
              "      let quickchartButtonEl =\n",
              "        document.querySelector('#df-adeb3dfb-7145-462c-a7b8-4611d0a9af28 button');\n",
              "      quickchartButtonEl.style.display =\n",
              "        google.colab.kernel.accessAllowed ? 'block' : 'none';\n",
              "    })();\n",
              "  </script>\n",
              "</div>\n",
              "\n",
              "    </div>\n",
              "  </div>\n"
            ],
            "application/vnd.google.colaboratory.intrinsic+json": {
              "type": "dataframe",
              "variable_name": "NYTaxi",
              "repr_error": "'str' object has no attribute 'empty'"
            }
          },
          "metadata": {},
          "execution_count": 20
        }
      ]
    },
    {
      "cell_type": "code",
      "source": [
        "# Write the combined DataFrame to a new CSV file\n",
        "NYTaxi.to_csv('/content/drive/My Drive/NYTaxi.csv', index=False)"
      ],
      "metadata": {
        "id": "9D_M13WKlazQ"
      },
      "execution_count": null,
      "outputs": []
    },
    {
      "cell_type": "markdown",
      "source": [
        "### Basic Analysis"
      ],
      "metadata": {
        "id": "3I2gfXWLFNmN"
      }
    },
    {
      "cell_type": "code",
      "source": [
        "# Create a map of the start and end locations\n",
        "\n",
        "# Create a map centered at an average location\n",
        "map_center = [NYTaxi[['Start_Lat', 'End_Lat']].mean().mean(), NYTaxi[['Start_Lon', 'End_Lon']].mean().mean()]\n",
        "mymap = folium.Map(location=map_center, zoom_start=10)\n",
        "\n",
        "# Add lines for each taxi ride route\n",
        "for index, row in NYTaxi.iterrows():\n",
        "    folium.PolyLine([(row['Start_Lat'], row['Start_Lon']), (row['End_Lat'], row['End_Lon'])], color='blue').add_to(mymap)\n",
        "\n",
        "# Save the map to an HTML file\n",
        "mymap.save(\"taxi_routes_map.html\")\n",
        "\n",
        "\n"
      ],
      "metadata": {
        "id": "O57gj2nECR4Z"
      },
      "execution_count": null,
      "outputs": []
    },
    {
      "cell_type": "code",
      "source": [
        "# Print general stats for numerical columns\n",
        "\n",
        "statistics = NYTaxi.describe()\n",
        "\n",
        "# Customize the formatting\n",
        "statistics_formatted = statistics.applymap(lambda x: \"{:.2f}\".format(x))\n",
        "\n",
        "# Display the formatted statistics\n",
        "print(statistics_formatted)"
      ],
      "metadata": {
        "id": "bxBwz6WmIfCh",
        "colab": {
          "base_uri": "https://localhost:8080/"
        },
        "outputId": "9b5f2cdd-f010-4494-a564-c051552f69eb"
      },
      "execution_count": null,
      "outputs": [
        {
          "output_type": "stream",
          "name": "stdout",
          "text": [
            "      Passenger_Count Trip_Distance Start_Lon Start_Lat  End_Lon  End_Lat  \\\n",
            "count         1948.00       1948.00   1948.00   1948.00  1948.00  1948.00   \n",
            "mean             1.93          2.61    -73.94     40.73   -73.94    40.73   \n",
            "std              1.49          3.04      1.68      0.92     1.68     0.92   \n",
            "min              1.00          0.00    -76.31     -0.04   -76.30    -0.04   \n",
            "25%              1.00          1.01    -73.99     40.74   -73.99    40.74   \n",
            "50%              1.00          1.65    -73.98     40.75   -73.98    40.75   \n",
            "75%              2.00          2.86    -73.97     40.77   -73.97    40.77   \n",
            "max              6.00         28.77     -0.05     40.92    -0.05    40.91   \n",
            "\n",
            "      Fare_Amt surcharge  Tip_Amt Tolls_Amt Total_Amt  \n",
            "count  1948.00   1948.00  1948.00   1948.00   1948.00  \n",
            "mean      9.47      0.30     0.54      0.11     10.42  \n",
            "std       7.23      0.37     1.36      0.71      8.21  \n",
            "min       2.50      0.00     0.00      0.00      2.50  \n",
            "25%       5.40      0.00     0.00      0.00      6.10  \n",
            "50%       7.30      0.00     0.00      0.00      8.10  \n",
            "75%      10.50      0.50     0.00      0.00     11.70  \n",
            "max     104.50      1.00    25.26     10.00    112.80  \n"
          ]
        }
      ]
    },
    {
      "cell_type": "code",
      "source": [
        "# Drop outliers\n",
        "\n",
        "# Find the index of the row with the maximum value in the 'Tip_Amt' column\n",
        "max_tip = NYTaxi['Tip_Amt'].idxmax()\n",
        "\n",
        "# Find the index of the row with the maximum value in the 'Start_Lon' column\n",
        "max_slon = NYTaxi['Start_Lon'].idxmax()\n",
        "\n",
        "# Find the index of the row with the maximum value in the 'End_Lon' column\n",
        "max_elon = NYTaxi['End_Lon'].idxmax()\n",
        "\n",
        "# Find the index of the row with the minimum value in the 'Start_Lat' column\n",
        "min_slat = NYTaxi['Start_Lat'].idxmin()\n",
        "\n",
        "# Find the index of the row with the minimum value in the 'End_Lat' column\n",
        "min_elat = NYTaxi['End_Lat'].idxmin()\n",
        "\n",
        "# Drop the rows with the maximum values in the respective columns\n",
        "NYTaxi.drop([max_tip, max_slon, max_elon, min_slat, min_elat], inplace=True)\n"
      ],
      "metadata": {
        "id": "H8aafoyHtETz"
      },
      "execution_count": null,
      "outputs": []
    },
    {
      "cell_type": "markdown",
      "source": [
        "# General Statistics Organized by Vendor"
      ],
      "metadata": {
        "id": "OT-ZdIx30yxc"
      }
    },
    {
      "cell_type": "markdown",
      "source": [
        "## Cost of Ride"
      ],
      "metadata": {
        "id": "n80EkCd604-w"
      }
    },
    {
      "cell_type": "code",
      "source": [
        "# Print all unique vendors\n",
        "\n",
        "# Get all unique values in the column\n",
        "unique_vendors = NYTaxi['vendor_name'].unique()\n",
        "\n",
        "# Print the unique values\n",
        "print(unique_vendors)"
      ],
      "metadata": {
        "id": "mM5mocR9z3zZ",
        "colab": {
          "base_uri": "https://localhost:8080/"
        },
        "outputId": "8137a065-73f9-4ac0-d174-97a68e80b543"
      },
      "execution_count": null,
      "outputs": [
        {
          "output_type": "stream",
          "name": "stdout",
          "text": [
            "['CMT' 'VTS' 'DDS']\n"
          ]
        }
      ]
    },
    {
      "cell_type": "code",
      "source": [
        "# IQR of the total fare amount of all CMT rides\n",
        "\n",
        "# Filter rows with 'CMT' in the 'vendor_name' column\n",
        "cmt_df = NYTaxi[NYTaxi['vendor_name'] == 'CMT']\n",
        "\n",
        "# Create a boxplot for the 'Total_Amt' column in the filtered DataFrame\n",
        "plt.figure(figsize=(6, 6))\n",
        "plt.boxplot(cmt_df['Total_Amt'], vert=False)\n",
        "\n",
        "# Plot legend\n",
        "plt.xlabel('Total Fare Amount')\n",
        "plt.title('Total Fare Amount Inner Quartile Range (CMT)')\n",
        "\n",
        "# Show the plot\n",
        "plt.show()\n"
      ],
      "metadata": {
        "id": "uC2dqEnazTl7",
        "colab": {
          "base_uri": "https://localhost:8080/",
          "height": 564
        },
        "outputId": "96a8a12a-8678-4ab0-f90e-88585313479b"
      },
      "execution_count": null,
      "outputs": [
        {
          "output_type": "display_data",
          "data": {
            "text/plain": [
              "<Figure size 600x600 with 1 Axes>"
            ],
            "image/png": "[encoded data removed]"
          },
          "metadata": {}
        }
      ]
    },
    {
      "cell_type": "code",
      "source": [
        "# IQR of the total fare amount of all VTS rides\n",
        "\n",
        "# Filter rows with 'VTS' in the 'vendor_name' column\n",
        "VTS_df = NYTaxi[NYTaxi['vendor_name'] == 'VTS']\n",
        "\n",
        "# Create a boxplot for the 'Total_Amt' column in the filtered DataFrame\n",
        "plt.figure(figsize=(6, 6))\n",
        "plt.boxplot(VTS_df['Total_Amt'], vert=False)\n",
        "\n",
        "# Plot legend\n",
        "plt.xlabel('Fare Amount')\n",
        "plt.title('Total Fare Amount Inner Quartile Range (VTS)')\n",
        "\n",
        "# Show the plot\n",
        "plt.show()\n"
      ],
      "metadata": {
        "id": "zUKNIPnPzqsU",
        "colab": {
          "base_uri": "https://localhost:8080/",
          "height": 564
        },
        "outputId": "cb4ec1c7-c8c6-4488-afee-1b337847ea97"
      },
      "execution_count": null,
      "outputs": [
        {
          "output_type": "display_data",
          "data": {
            "text/plain": [
              "<Figure size 600x600 with 1 Axes>"
            ],
            "image/png": "[encoded data removed]"
          },
          "metadata": {}
        }
      ]
    },
    {
      "cell_type": "code",
      "source": [
        "# IQR of the total fare amount of all DDS rides\n",
        "\n",
        "# Filter rows with 'DDS' in the 'vendor_name' column\n",
        "DDS_df = NYTaxi[NYTaxi['vendor_name'] == 'DDS']\n",
        "\n",
        "# Create a boxplot for the 'Total_Amt' column in the filtered DataFrame\n",
        "plt.figure(figsize=(6, 6))\n",
        "plt.boxplot(DDS_df['Total_Amt'], vert=False)\n",
        "\n",
        "# Plot legend\n",
        "plt.xlabel('Total Fare Amount')\n",
        "plt.title('Total Fare Amount Inner Quartile Range (DDS)')\n",
        "\n",
        "# Show the plot\n",
        "plt.show()"
      ],
      "metadata": {
        "id": "Y1SXzOzq0CrT",
        "colab": {
          "base_uri": "https://localhost:8080/",
          "height": 564
        },
        "outputId": "2512489c-9a72-4c00-83ad-92eace6eeb2d"
      },
      "execution_count": null,
      "outputs": [
        {
          "output_type": "display_data",
          "data": {
            "text/plain": [
              "<Figure size 600x600 with 1 Axes>"
            ],
            "image/png": "[encoded data removed]"
          },
          "metadata": {}
        }
      ]
    },
    {
      "cell_type": "markdown",
      "source": [
        "## Distance"
      ],
      "metadata": {
        "id": "8QxKBHc40_iK"
      }
    },
    {
      "cell_type": "code",
      "source": [
        "# IQR of the ride distance of all CMT rides\n",
        "\n",
        "# Filter rows with 'CMT' in the 'vendor_name' column\n",
        "cmt_df = NYTaxi[NYTaxi['vendor_name'] == 'CMT']\n",
        "\n",
        "# Create a boxplot for the 'Trip_Distance' column in the filtered DataFrame\n",
        "plt.figure(figsize=(6, 6))\n",
        "plt.boxplot(cmt_df['Trip_Distance'], vert=False)\n",
        "\n",
        "# Plot legend\n",
        "plt.xlabel('Trip Distance')\n",
        "plt.title('Trip Distance Inner Quartile Range (CMT)')\n",
        "\n",
        "# Show the plot\n",
        "plt.show()"
      ],
      "metadata": {
        "id": "YiK0kjjO1KVM",
        "colab": {
          "base_uri": "https://localhost:8080/",
          "height": 564
        },
        "outputId": "5b8d475f-d745-41de-b8b6-e4d06e3357cf"
      },
      "execution_count": null,
      "outputs": [
        {
          "output_type": "display_data",
          "data": {
            "text/plain": [
              "<Figure size 600x600 with 1 Axes>"
            ],
            "image/png": "[encoded data removed]"
          },
          "metadata": {}
        }
      ]
    },
    {
      "cell_type": "code",
      "source": [
        "# IQR of the ride distance of all VTS rides\n",
        "\n",
        "# Filter rows with 'VTS' in the 'vendor_name' column\n",
        "VTS_df = NYTaxi[NYTaxi['vendor_name'] == 'VTS']\n",
        "\n",
        "# Create a boxplot for the 'Trip_Distance' column in the filtered DataFrame\n",
        "plt.figure(figsize=(6, 6))\n",
        "plt.boxplot(VTS_df['Trip_Distance'], vert=False)\n",
        "\n",
        "# Plot legend\n",
        "plt.xlabel('Trip Distance')\n",
        "plt.title('Trip Distance Inner Quartile Range (VTS)')\n",
        "\n",
        "# Show the plot\n",
        "plt.show()"
      ],
      "metadata": {
        "id": "Ktw4l5sx1YRE",
        "colab": {
          "base_uri": "https://localhost:8080/",
          "height": 564
        },
        "outputId": "c82b9e03-52d9-43d0-d88e-b91a70e3e429"
      },
      "execution_count": null,
      "outputs": [
        {
          "output_type": "display_data",
          "data": {
            "text/plain": [
              "<Figure size 600x600 with 1 Axes>"
            ],
            "image/png": "[encoded data removed]"
          },
          "metadata": {}
        }
      ]
    },
    {
      "cell_type": "code",
      "source": [
        "# IQR of the ride distance of all DDS rides\n",
        "\n",
        "# Filter rows with 'DDS' in the 'vendor_name' column\n",
        "DDS_df = NYTaxi[NYTaxi['vendor_name'] == 'DDS']\n",
        "\n",
        "# Create a boxplot for the 'Trip_Distance' column in the filtered DataFrame\n",
        "plt.figure(figsize=(6, 6))\n",
        "plt.boxplot(DDS_df['Trip_Distance'], vert=False)\n",
        "\n",
        "# Plot legend\n",
        "plt.xlabel('Trip Distance')\n",
        "plt.title('Trip Distance Inner Quartile Range (DDS)')\n",
        "\n",
        "# Show the plot\n",
        "plt.show()"
      ],
      "metadata": {
        "id": "uZreKdQn1bUB",
        "colab": {
          "base_uri": "https://localhost:8080/",
          "height": 564
        },
        "outputId": "36da4893-91ba-421c-8387-34528030cea2"
      },
      "execution_count": null,
      "outputs": [
        {
          "output_type": "display_data",
          "data": {
            "text/plain": [
              "<Figure size 600x600 with 1 Axes>"
            ],
            "image/png": "[encoded data removed]"
          },
          "metadata": {}
        }
      ]
    },
    {
      "cell_type": "markdown",
      "source": [
        "## Method of Payment"
      ],
      "metadata": {
        "id": "VVW8tLDP3CHn"
      }
    },
    {
      "cell_type": "code",
      "source": [
        "\n",
        "# Filter rows with 'CMT' in the 'vendor_name' column\n",
        "filtered_NYTaxi = NYTaxi[NYTaxi['vendor_name'] == 'CMT']\n",
        "\n",
        "# Get the value counts of each distinct variable in the filtered column\n",
        "value_counts = filtered_NYTaxi['Payment_Type'].value_counts()\n",
        "\n",
        "# Plot a bar graph\n",
        "plt.figure(figsize=(10, 6))\n",
        "value_counts.plot(kind='bar')\n",
        "plt.xlabel('Method of Payment')\n",
        "plt.xticks(rotation='horizontal')\n",
        "plt.ylabel('Total')\n",
        "plt.title('CMT')\n",
        "plt.show()"
      ],
      "metadata": {
        "id": "LSxO_R134YR3",
        "colab": {
          "base_uri": "https://localhost:8080/",
          "height": 564
        },
        "outputId": "36dd3742-27ac-40f6-e6a7-c87d40fa67bc"
      },
      "execution_count": null,
      "outputs": [
        {
          "output_type": "display_data",
          "data": {
            "text/plain": [
              "<Figure size 1000x600 with 1 Axes>"
            ],
            "image/png": "[encoded data removed]"
          },
          "metadata": {}
        }
      ]
    },
    {
      "cell_type": "code",
      "source": [
        "\n",
        "# Filter rows with 'VTS' in the 'vendor_name' column\n",
        "filtered_NYTaxi = NYTaxi[NYTaxi['vendor_name'] == 'VTS']\n",
        "\n",
        "# Get the value counts of each distinct variable in the filtered column\n",
        "value_counts = filtered_NYTaxi['Payment_Type'].value_counts()\n",
        "\n",
        "# Plot a bar graph\n",
        "plt.figure(figsize=(10, 6))\n",
        "value_counts.plot(kind='bar')\n",
        "plt.xlabel('Method of Payment')\n",
        "plt.xticks(rotation='horizontal')\n",
        "plt.ylabel('Total')\n",
        "plt.title('VTS')\n",
        "plt.show()"
      ],
      "metadata": {
        "id": "bf7x-oZL293n",
        "colab": {
          "base_uri": "https://localhost:8080/",
          "height": 564
        },
        "outputId": "e57f0e03-3931-4303-e453-33c25c256722"
      },
      "execution_count": null,
      "outputs": [
        {
          "output_type": "display_data",
          "data": {
            "text/plain": [
              "<Figure size 1000x600 with 1 Axes>"
            ],
            "image/png": "[encoded data removed]"
          },
          "metadata": {}
        }
      ]
    },
    {
      "cell_type": "code",
      "source": [
        "\n",
        "# Filter rows with 'DDS' in the 'vendor_name' column\n",
        "filtered_NYTaxi = NYTaxi[NYTaxi['vendor_name'] == 'DDS']\n",
        "\n",
        "# Get the value counts of each distinct variable in the filtered column\n",
        "value_counts = filtered_NYTaxi['Payment_Type'].value_counts()\n",
        "\n",
        "# Plot a bar graph\n",
        "plt.figure(figsize=(10, 6))\n",
        "value_counts.plot(kind='bar')\n",
        "plt.xlabel('Method of Payment')\n",
        "plt.xticks(rotation='horizontal')\n",
        "plt.ylabel('Total')\n",
        "plt.title('DDS')\n",
        "plt.show()"
      ],
      "metadata": {
        "id": "Tq37UmnX5f5V",
        "colab": {
          "base_uri": "https://localhost:8080/",
          "height": 564
        },
        "outputId": "1c0ee5c8-7d21-44be-d819-3f4b277336c2"
      },
      "execution_count": null,
      "outputs": [
        {
          "output_type": "display_data",
          "data": {
            "text/plain": [
              "<Figure size 1000x600 with 1 Axes>"
            ],
            "image/png": "[encoded data removed]"
          },
          "metadata": {}
        }
      ]
    },
    {
      "cell_type": "code",
      "source": [
        "# Get the value counts of each distinct variable in the column\n",
        "value_counts = NYTaxi['Payment_Type'].value_counts()\n",
        "\n",
        "# Plot a bar graph\n",
        "plt.figure(figsize=(10, 6))\n",
        "value_counts.plot(kind='bar')\n",
        "plt.xlabel('Method of Payment')\n",
        "plt.xticks(rotation='horizontal')\n",
        "plt.ylabel('Counts')\n",
        "plt.title('Total Counts')\n",
        "plt.show()"
      ],
      "metadata": {
        "id": "ZphHTcUq5vIb",
        "colab": {
          "base_uri": "https://localhost:8080/",
          "height": 564
        },
        "outputId": "b9ac491e-7012-4123-d560-9e3a39482b4a"
      },
      "execution_count": null,
      "outputs": [
        {
          "output_type": "display_data",
          "data": {
            "text/plain": [
              "<Figure size 1000x600 with 1 Axes>"
            ],
            "image/png": "[encoded data removed]"
          },
          "metadata": {}
        }
      ]
    },
    {
      "cell_type": "markdown",
      "source": [
        "## Passenger Count"
      ],
      "metadata": {
        "id": "vJ0Tqy6YUQMJ"
      }
    },
    {
      "cell_type": "code",
      "source": [
        "# Filter rows with 'CMT' in the 'vendor_name' column\n",
        "filtered_NYTaxi = NYTaxi[NYTaxi['vendor_name'] == 'CMT']\n",
        "\n",
        "# Get the value counts of each distinct variable in the filtered column\n",
        "value_counts = filtered_NYTaxi['Passenger_Count'].value_counts()\n",
        "\n",
        "# Plot a bar graph\n",
        "plt.figure(figsize=(10, 6))\n",
        "value_counts.plot(kind='bar')\n",
        "plt.xlabel('Passenger Count')\n",
        "plt.xticks(rotation='horizontal')\n",
        "plt.ylabel('Total')\n",
        "plt.title('CMT')\n",
        "plt.show()"
      ],
      "metadata": {
        "id": "u8uv6ebvUPJB",
        "colab": {
          "base_uri": "https://localhost:8080/",
          "height": 564
        },
        "outputId": "8c463d29-4064-4c23-ef32-0a0ad63be1b3"
      },
      "execution_count": null,
      "outputs": [
        {
          "output_type": "display_data",
          "data": {
            "text/plain": [
              "<Figure size 1000x600 with 1 Axes>"
            ],
            "image/png": "[encoded data removed]"
          },
          "metadata": {}
        }
      ]
    },
    {
      "cell_type": "code",
      "source": [
        "# Filter rows with 'VTS' in the 'vendor_name' column\n",
        "filtered_NYTaxi = NYTaxi[NYTaxi['vendor_name'] == 'VTS']\n",
        "\n",
        "# Get the value counts of each distinct variable in the filtered column\n",
        "value_counts = filtered_NYTaxi['Passenger_Count'].value_counts()\n",
        "\n",
        "# Plot a bar graph\n",
        "plt.figure(figsize=(10, 6))\n",
        "value_counts.plot(kind='bar')\n",
        "plt.xlabel('Passenger Count')\n",
        "plt.xticks(rotation='horizontal')\n",
        "plt.ylabel('Total')\n",
        "plt.title('VTS')\n",
        "plt.show()"
      ],
      "metadata": {
        "id": "ivcO5hI2VPDb",
        "colab": {
          "base_uri": "https://localhost:8080/",
          "height": 564
        },
        "outputId": "e87c8298-4b29-47f9-fb58-dfdb6ef445b5"
      },
      "execution_count": null,
      "outputs": [
        {
          "output_type": "display_data",
          "data": {
            "text/plain": [
              "<Figure size 1000x600 with 1 Axes>"
            ],
            "image/png": "[encoded data removed]"
          },
          "metadata": {}
        }
      ]
    },
    {
      "cell_type": "code",
      "source": [
        "# Filter rows with 'DDS' in the 'vendor_name' column\n",
        "filtered_NYTaxi = NYTaxi[NYTaxi['vendor_name'] == 'DDS']\n",
        "\n",
        "# Get the value counts of each distinct variable in the filtered column\n",
        "value_counts = filtered_NYTaxi['Passenger_Count'].value_counts()\n",
        "\n",
        "# Plot a bar graph\n",
        "plt.figure(figsize=(10, 6))\n",
        "value_counts.plot(kind='bar')\n",
        "plt.xlabel('Passenger Count')\n",
        "plt.xticks(rotation='horizontal')\n",
        "plt.ylabel('Total')\n",
        "plt.title('DDS')\n",
        "plt.show()"
      ],
      "metadata": {
        "id": "Z4UWY0BHVT0x",
        "colab": {
          "base_uri": "https://localhost:8080/",
          "height": 564
        },
        "outputId": "da14bbb8-6c1b-4e34-a486-776650026c2f"
      },
      "execution_count": null,
      "outputs": [
        {
          "output_type": "display_data",
          "data": {
            "text/plain": [
              "<Figure size 1000x600 with 1 Axes>"
            ],
            "image/png": "[encoded data removed]"
          },
          "metadata": {}
        }
      ]
    }
  ]
}